{
 "cells": [
  {
   "cell_type": "code",
   "execution_count": 91,
   "metadata": {},
   "outputs": [
    {
     "name": "stdout",
     "output_type": "stream",
     "text": [
      "   total_bill  tip  size  sex_Male  sex_Female  smoker_Yes  smoker_No  \\\n",
      "0          16    1     2         0           1           0          1   \n",
      "1          10    1     3         1           0           0          1   \n",
      "2          21    3     3         1           0           0          1   \n",
      "3          23    3     2         1           0           0          1   \n",
      "4          24    3     4         0           1           0          1   \n",
      "\n",
      "   day_Thur  day_Fri  day_Sat  day_Sun  time_Lunch  time_Dinner  ftotal_bill  \n",
      "0         0        0        0        1           0            1           16  \n",
      "1         0        0        0        1           0            1           10  \n",
      "2         0        0        0        1           0            1           21  \n",
      "3         0        0        0        1           0            1           23  \n",
      "4         0        0        0        1           0            1           24  \n"
     ]
    }
   ],
   "source": [
    "import pandas as pd\n",
    "import matplotlib.pyplot as plt\n",
    "import seaborn as sns\n",
    "import warnings\n",
    "warnings.simplefilter(action='ignore', category=FutureWarning)\n",
    "tips = sns.load_dataset('tips')\n",
    "tipdf = tips\n",
    "print(df.head())"
   ]
  },
  {
   "cell_type": "code",
   "execution_count": 92,
   "metadata": {},
   "outputs": [
    {
     "name": "stdout",
     "output_type": "stream",
     "text": [
      "(244, 7)\n",
      "total_bill     16.99\n",
      "tip             1.01\n",
      "sex           Female\n",
      "smoker            No\n",
      "day              Sun\n",
      "time          Dinner\n",
      "size               2\n",
      "Name: 0, dtype: object\n",
      "<bound method NDFrame.head of      total_bill   tip     sex smoker   day    time  size\n",
      "0         16.99  1.01  Female     No   Sun  Dinner     2\n",
      "1         10.34  1.66    Male     No   Sun  Dinner     3\n",
      "2         21.01  3.50    Male     No   Sun  Dinner     3\n",
      "3         23.68  3.31    Male     No   Sun  Dinner     2\n",
      "4         24.59  3.61  Female     No   Sun  Dinner     4\n",
      "..          ...   ...     ...    ...   ...     ...   ...\n",
      "239       29.03  5.92    Male     No   Sat  Dinner     3\n",
      "240       27.18  2.00  Female    Yes   Sat  Dinner     2\n",
      "241       22.67  2.00    Male    Yes   Sat  Dinner     2\n",
      "242       17.82  1.75    Male     No   Sat  Dinner     2\n",
      "243       18.78  3.00  Female     No  Thur  Dinner     2\n",
      "\n",
      "[244 rows x 7 columns]>\n",
      "total_bill     float64\n",
      "tip            float64\n",
      "sex           category\n",
      "smoker        category\n",
      "day           category\n",
      "time          category\n",
      "size             int64\n",
      "dtype: object\n"
     ]
    },
    {
     "data": {
      "text/plain": [
       "<bound method DataFrame.info of      total_bill   tip  size  sex_Male  sex_Female  smoker_Yes  smoker_No  \\\n",
       "0         16.99  1.01     2         0           1           0          1   \n",
       "1         10.34  1.66     3         1           0           0          1   \n",
       "2         21.01  3.50     3         1           0           0          1   \n",
       "3         23.68  3.31     2         1           0           0          1   \n",
       "4         24.59  3.61     4         0           1           0          1   \n",
       "..          ...   ...   ...       ...         ...         ...        ...   \n",
       "239       29.03  5.92     3         1           0           0          1   \n",
       "240       27.18  2.00     2         0           1           1          0   \n",
       "241       22.67  2.00     2         1           0           1          0   \n",
       "242       17.82  1.75     2         1           0           0          1   \n",
       "243       18.78  3.00     2         0           1           0          1   \n",
       "\n",
       "     day_Thur  day_Fri  day_Sat  day_Sun  time_Lunch  time_Dinner  \n",
       "0           0        0        0        1           0            1  \n",
       "1           0        0        0        1           0            1  \n",
       "2           0        0        0        1           0            1  \n",
       "3           0        0        0        1           0            1  \n",
       "4           0        0        0        1           0            1  \n",
       "..        ...      ...      ...      ...         ...          ...  \n",
       "239         0        0        1        0           0            1  \n",
       "240         0        0        1        0           0            1  \n",
       "241         0        0        1        0           0            1  \n",
       "242         0        0        1        0           0            1  \n",
       "243         1        0        0        0           0            1  \n",
       "\n",
       "[244 rows x 13 columns]>"
      ]
     },
     "execution_count": 92,
     "metadata": {},
     "output_type": "execute_result"
    }
   ],
   "source": [
    "print(tipdf.shape)\n",
    "print(tipdf.iloc[0])\n",
    "print(tipdf.head)\n",
    "print(tipdf.dtypes)\n",
    "#Vectorize variables\n",
    "tipdf = pd.get_dummies(tipdf)\n",
    "tipdf.info"
   ]
  },
  {
   "cell_type": "code",
   "execution_count": 93,
   "metadata": {},
   "outputs": [
    {
     "data": {
      "text/plain": [
       "total_bill     0\n",
       "tip            0\n",
       "size           0\n",
       "sex_Male       0\n",
       "sex_Female     0\n",
       "smoker_Yes     0\n",
       "smoker_No      0\n",
       "day_Thur       0\n",
       "day_Fri        0\n",
       "day_Sat        0\n",
       "day_Sun        0\n",
       "time_Lunch     0\n",
       "time_Dinner    0\n",
       "dtype: int64"
      ]
     },
     "execution_count": 93,
     "metadata": {},
     "output_type": "execute_result"
    }
   ],
   "source": [
    "# If any data is missing\n",
    "len(tipdf)\n",
    "tipdf.isna().sum()"
   ]
  },
  {
   "cell_type": "code",
   "execution_count": 94,
   "metadata": {},
   "outputs": [
    {
     "name": "stdout",
     "output_type": "stream",
     "text": [
      "     total_bill  size  sex_Male  sex_Female  smoker_Yes  smoker_No  day_Thur  \\\n",
      "0         16.99     2         0           1           0          1         0   \n",
      "1         10.34     3         1           0           0          1         0   \n",
      "2         21.01     3         1           0           0          1         0   \n",
      "3         23.68     2         1           0           0          1         0   \n",
      "4         24.59     4         0           1           0          1         0   \n",
      "..          ...   ...       ...         ...         ...        ...       ...   \n",
      "239       29.03     3         1           0           0          1         0   \n",
      "240       27.18     2         0           1           1          0         0   \n",
      "241       22.67     2         1           0           1          0         0   \n",
      "242       17.82     2         1           0           0          1         0   \n",
      "243       18.78     2         0           1           0          1         1   \n",
      "\n",
      "     day_Fri  day_Sat  day_Sun  time_Lunch  time_Dinner  \n",
      "0          0        0        1           0            1  \n",
      "1          0        0        1           0            1  \n",
      "2          0        0        1           0            1  \n",
      "3          0        0        1           0            1  \n",
      "4          0        0        1           0            1  \n",
      "..       ...      ...      ...         ...          ...  \n",
      "239        0        1        0           0            1  \n",
      "240        0        1        0           0            1  \n",
      "241        0        1        0           0            1  \n",
      "242        0        1        0           0            1  \n",
      "243        0        0        0           0            1  \n",
      "\n",
      "[244 rows x 12 columns]\n",
      "0      1.01\n",
      "1      1.66\n",
      "2      3.50\n",
      "3      3.31\n",
      "4      3.61\n",
      "       ... \n",
      "239    5.92\n",
      "240    2.00\n",
      "241    2.00\n",
      "242    1.75\n",
      "243    3.00\n",
      "Name: tip, Length: 244, dtype: float64\n"
     ]
    }
   ],
   "source": [
    "X = tipdf.drop('tip', axis=1)\n",
    "Y = tipdf['tip']\n",
    "print(X)\n",
    "print(Y)"
   ]
  },
  {
   "cell_type": "code",
   "execution_count": 95,
   "metadata": {},
   "outputs": [
    {
     "name": "stdout",
     "output_type": "stream",
     "text": [
      "0.34739604269846147 0.0882485826279553\n"
     ]
    }
   ],
   "source": [
    "# getting the mean and Sd\n",
    "import numpy as np\n",
    "from sklearn.ensemble import GradientBoostingRegressor\n",
    "model=GradientBoostingRegressor(n_estimators=100,random_state=0)\n",
    "from sklearn.model_selection import cross_val_score\n",
    "scores5=cross_val_score(model,X,Y, cv=5)\n",
    "scores5\n",
    "print(np.mean(scores5),np.std(scores5))"
   ]
  },
  {
   "cell_type": "code",
   "execution_count": 96,
   "metadata": {},
   "outputs": [],
   "source": [
    "# split the data\n",
    "import random\n",
    "N = list(range(0,len(X)))\n",
    "random.shuffle(N)\n",
    "Ntrain = N[0:int(len(X)*0.8)]\n",
    "Nval = N[int(len(X)*0.8):int(len(x)*0.9)]\n",
    "Ntest = N[int(len(X)*0.9):]\n",
    "Xtrain = X.iloc[Ntrain]\n",
    "Xval = X.iloc[Nval]\n",
    "Xtest = X.iloc[Ntest]\n",
    "Ytrain = Y.iloc[Ntrain]\n",
    "Yval = Y.iloc[Nval]\n",
    "Ytest = Y.iloc[Ntest]"
   ]
  },
  {
   "cell_type": "code",
   "execution_count": 97,
   "metadata": {},
   "outputs": [],
   "source": [
    "\n",
    "from sklearn.preprocessing import StandardScaler\n",
    "sc=StandardScaler()\n",
    "X_train= sc.fit_transform(Xtrain)\n",
    "X_test=sc.transform(Xtest)\n",
    "from sklearn.metrics import mean_squared_error "
   ]
  },
  {
   "cell_type": "code",
   "execution_count": 98,
   "metadata": {},
   "outputs": [
    {
     "name": "stdout",
     "output_type": "stream",
     "text": [
      "2.613821361997209\n"
     ]
    }
   ],
   "source": [
    "#Support Vector Machine Regression\n",
    "from sklearn.metrics import mean_squared_error \n",
    "from sklearn.svm import SVR\n",
    "svr=SVR()\n",
    "svr.fit(Xtrain,Ytrain)\n",
    "ypredictsvr=svr.predict(Xval)\n",
    "print(mean_squared_error(Yval,ypredictsvr))"
   ]
  },
  {
   "cell_type": "code",
   "execution_count": 99,
   "metadata": {},
   "outputs": [
    {
     "name": "stdout",
     "output_type": "stream",
     "text": [
      "2.174373666666667\n"
     ]
    }
   ],
   "source": [
    "#KNeighborsRegressor\n",
    "from sklearn.neighbors import KNeighborsRegressor\n",
    "knnhw1=KNeighborsRegressor()\n",
    "knnhw1.fit(Xtrain,Ytrain)\n",
    "knnpredict=knnhw1.predict(Xval)\n",
    "print(mean_squared_error(Yval,knnpredict))"
   ]
  },
  {
   "cell_type": "code",
   "execution_count": 100,
   "metadata": {},
   "outputs": [
    {
     "name": "stdout",
     "output_type": "stream",
     "text": [
      "1.6708351271694213\n"
     ]
    }
   ],
   "source": [
    "#MLR Regressor#\n",
    "from sklearn import linear_model\n",
    "lregressor= linear_model.LinearRegression()\n",
    "lregressor.fit(Xtrain,Ytrain)\n",
    "lrpredict=lregressor.predict(Xval)\n",
    "print(mean_squared_error(Yval,lrpredict))"
   ]
  },
  {
   "cell_type": "code",
   "execution_count": 101,
   "metadata": {},
   "outputs": [],
   "source": [
    "#80+10=90%\n",
    "Ntrainval = Ntrain + Nval\n",
    "Xtrainval = X.iloc[Ntrainval]\n",
    "Ytrainval = Y.iloc[Ntrainval]"
   ]
  },
  {
   "cell_type": "code",
   "execution_count": 102,
   "metadata": {},
   "outputs": [
    {
     "name": "stdout",
     "output_type": "stream",
     "text": [
      "1.4424208955469195\n"
     ]
    }
   ],
   "source": [
    "#Best Model\n",
    "from sklearn.svm import SVR\n",
    "bestmodel=SVR()\n",
    "bestmodel.fit(Xtrainval,Ytrainval)\n",
    "bestpred=bestmodel.predict(Xtest)\n",
    "accu=mean_squared_error(Ytest,bestpred)\n",
    "print(accu)"
   ]
  },
  {
   "cell_type": "code",
   "execution_count": null,
   "metadata": {},
   "outputs": [],
   "source": []
  }
 ],
 "metadata": {
  "kernelspec": {
   "display_name": "Python 3",
   "language": "python",
   "name": "python3"
  },
  "language_info": {
   "codemirror_mode": {
    "name": "ipython",
    "version": 3
   },
   "file_extension": ".py",
   "mimetype": "text/x-python",
   "name": "python",
   "nbconvert_exporter": "python",
   "pygments_lexer": "ipython3",
   "version": "3.8.3"
  }
 },
 "nbformat": 4,
 "nbformat_minor": 4
}
